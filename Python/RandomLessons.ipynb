{
 "cells": [
  {
   "cell_type": "markdown",
   "metadata": {},
   "source": [
    "**translate()** function replace each character in the string using the given translation table. We have to specify the Unicode code point for the character and ‘None’ as a replacement to remove it from the result string. We can use ord() function to get the Unicode code point of a character.\n",
    "\n",
    "```python\n",
    "s = 'abc12321cba'\n",
    "\n",
    "print(s.translate({ord('a'): None}))\n",
    "# Output: bc12321cb\n",
    "\n",
    "s = 'abc12321cba'\n",
    "\n",
    "print(s.translate({ord(i): None for i in 'abc'}))\n",
    "# Output: 12321\n",
    "print(s.translate(None, 'abc')\n",
    "```\n",
    "      \n",
    "**Enumerate() in Python**\n",
    "A lot of times when dealing with iterators, we also get a need to keep a count of iterations. Python eases the programmers’ task by providing a built-in function enumerate() for this task.\n",
    "```python\n",
    "l1 = [\"eat\",\"sleep\",\"repeat\"] \n",
    "\n",
    "print list(enumerate(l1)) \n",
    "# output [(0, 'eat'), (1, 'sleep'), (2, 'repeat')]\n",
    "```"
   ]
  }
 ],
 "metadata": {
  "kernelspec": {
   "display_name": "Python 3",
   "language": "python",
   "name": "python3"
  },
  "language_info": {
   "codemirror_mode": {
    "name": "ipython",
    "version": 3
   },
   "file_extension": ".py",
   "mimetype": "text/x-python",
   "name": "python",
   "nbconvert_exporter": "python",
   "pygments_lexer": "ipython3",
   "version": "3.6.0"
  }
 },
 "nbformat": 4,
 "nbformat_minor": 2
}
