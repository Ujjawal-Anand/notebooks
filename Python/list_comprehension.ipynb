{
 "cells": [
  {
   "cell_type": "markdown",
   "metadata": {},
   "source": [
    "List comprehensions are used to create new list from other iterables\n",
    "\n",
    "> new_lsit = [expression for loop_one_or_more condition]\n",
    "\n",
    "### Example\n",
    "*finding squares of numbers using for loop*\n",
    "```python\n",
    "numbers = [1, 2, 3, 4]\n",
    "squares = []\n",
    "for number in numbers:\n",
    "    squares.append(numbers**2)\n",
    "    \n",
    "print(squares) # output: 1, 4, 9, 16\n",
    "```\n",
    "\n",
    "*finding squares using list comprehensions*\n",
    "```python\n",
    "numbers = [1, 2, 3, 4]\n",
    "squares = [n**2 for n in numbers]\n",
    "```\n",
    "\n",
    "*finding common elements of two lists using for loop*\n",
    "```python\n",
    "list_a = [1,2,3,4]\n",
    "list_b = [2,3,4,5]\n",
    "common_num = []\n",
    "for a in list_a:\n",
    "    for b in list_b:\n",
    "        if a == b:\n",
    "            common_num.append(a)\n",
    "            break\n",
    "print(common_num) #output: [2, 3, 4]\n",
    "```\n",
    "\n",
    "*finding common elements of two lists using list comprehensions*\n",
    "```python\n",
    "list_a = [1,2,3,4]\n",
    "list_b = [2,3,4,5]\n",
    "\n",
    "common_num = [a for a in list_a for b in list_b if a==b]\n",
    "```\n",
    "\n",
    "*return numbers from list which are not equal as tuple*\n",
    "```python\n",
    "list_a = [1, 2, 3, 4]\n",
    "lsit_b = [2, 7]\n",
    "\n",
    "not_equal = [(a, b) for a in list_a for b in list_b if a != b]\n",
    "print(not_equal) #output: [(1,2), (1,7), (2,7), (3,2), (3,7), (4,2), (4,7)]\n",
    "```"
   ]
  },
  {
   "cell_type": "code",
   "execution_count": null,
   "metadata": {},
   "outputs": [],
   "source": []
  }
 ],
 "metadata": {
  "kernelspec": {
   "display_name": "Python 3",
   "language": "python",
   "name": "python3"
  },
  "language_info": {
   "codemirror_mode": {
    "name": "ipython",
    "version": 3
   },
   "file_extension": ".py",
   "mimetype": "text/x-python",
   "name": "python",
   "nbconvert_exporter": "python",
   "pygments_lexer": "ipython3",
   "version": "3.8.1"
  }
 },
 "nbformat": 4,
 "nbformat_minor": 2
}
