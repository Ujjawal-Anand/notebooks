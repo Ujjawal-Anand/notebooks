{
 "cells": [
  {
   "cell_type": "markdown",
   "metadata": {},
   "source": [
    "#1 \n",
    "Count number of 1 in a binary of given decimal number\n",
    "```python\n",
    "def countBits(n):\n",
    "    retun bin(n).count(\"1\")\n",
    "    \n",
    "def countBits(n):\n",
    "    total = 0\n",
    "    while n > 0:\n",
    "        total += n%2\n",
    "        n >>= 1\n",
    "    return total\n",
    "```\n",
    "\n",
    "#2\n",
    "remove vowels from string\n",
    "```python\n",
    "def disemvowels(s):\n",
    "    return s.translate(None, 'aeiouAEIOU')\n",
    "```\n",
    "\n",
    "#3\n",
    "arrange digists of a number in descending order\n",
    "input 12345\n",
    "output 54321\n",
    "```python\n",
    "def descendingOreder(num):\n",
    "    return int(''.join(sorted(list(str(num)), reverse=True)))\n",
    "```\n",
    "\n",
    "#4\n",
    "playing with digits\n",
    "```python\n",
    "def dig_pow(n, p):\n",
    "    num = 0\n",
    "    for i,c in enumerate(str(n)):\n",
    "        num += pow(int(c), p+i)\n",
    "    return num/n if num%n==0 else -1\n",
    "```\n",
    "\n"
   ]
  }
 ],
 "metadata": {
  "kernelspec": {
   "display_name": "Python 3",
   "language": "python",
   "name": "python3"
  },
  "language_info": {
   "codemirror_mode": {
    "name": "ipython",
    "version": 3
   },
   "file_extension": ".py",
   "mimetype": "text/x-python",
   "name": "python",
   "nbconvert_exporter": "python",
   "pygments_lexer": "ipython3",
   "version": "3.6.0"
  }
 },
 "nbformat": 4,
 "nbformat_minor": 2
}
