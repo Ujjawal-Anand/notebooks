{
 "cells": [
  {
   "cell_type": "markdown",
   "metadata": {},
   "source": [
    "## [reverse](https://docs.djangoproject.com/en/3.0/ref/urlresolvers/)\n",
    "In your urls.py define this:\n",
    "```python\n",
    "url(r'^foo$', some_view, name='url_name'),\n",
    "```\n",
    "In a template you can then refer to this url as:\n",
    "```html\n",
    "<!-- django <= 1.4 -->\n",
    "<a href=\"{% url url_name %}\">link which calls some_view</a>\n",
    "\n",
    "<!-- django >= 1.5 or with {% load url from future %} in your template -->\n",
    "<a href=\"{% url 'url_name' %}\">link which calls some_view</a>\n",
    "```\n",
    "This will be rendered as:\n",
    "```html\n",
    "<a href=\"/foo/\">link which calls some_view</a>\n",
    "```\n",
    "\n",
    "Now say you want to do something similar in your views.py - e.g. you are handling some other url (not /foo/) in some other view (not some_view) and you want to redirect the user to /foo/ (often the case on successful form submission).\n",
    "\n",
    "You could just do:\n",
    "```python\n",
    "return HttpResponseRedirect('/foo/')\n",
    "```\n",
    "But what if you want to change the url in future? You'd have to update your urls.py and all references to it in your code. This violates DRY (Don't Repeat Yourself), the whole idea of editing one place only, which is something to strive for.\n",
    "\n",
    "Instead, you can say:\n",
    "```python\n",
    "from django.urls import reverse\n",
    "return HttpResponseRedirect(reverse('url_name'))\n",
    "```\n",
    "\n",
    "## [resolve](https://docs.djangoproject.com/en/3.0/ref/urlresolvers/#resolve)\n",
    "The resolve() function can be used for resolving URL paths to the corresponding view functions. \n",
    "If the URL does not resolve, the function raises a Resolver404 exception (a subclass of Http404) .\n",
    "\n",
    "One possible use of resolve() would be to test whether a view would raise a Http404 error before redirecting to it:\n",
    "```python\n",
    "from urllib.parse import urlparse\n",
    "from django.urls import resolve\n",
    "from django.http import Http404, HttpResponseRedirect\n",
    "\n",
    "def myview(request):\n",
    "    next = request.META.get('HTTP_REFERER', None) or '/'\n",
    "    response = HttpResponseRedirect(next)\n",
    "\n",
    "    # modify the request and response as required, e.g. change locale\n",
    "    # and set corresponding locale cookie\n",
    "\n",
    "    view, args, kwargs = resolve(urlparse(next)[2])\n",
    "    kwargs['request'] = request\n",
    "    try:\n",
    "        view(*args, **kwargs)\n",
    "    except Http404:\n",
    "        return HttpResponseRedirect('/')\n",
    "    return response\n",
    " ```"
   ]
  },
  {
   "cell_type": "code",
   "execution_count": null,
   "metadata": {},
   "outputs": [],
   "source": []
  }
 ],
 "metadata": {
  "kernelspec": {
   "display_name": "Python 3",
   "language": "python",
   "name": "python3"
  },
  "language_info": {
   "codemirror_mode": {
    "name": "ipython",
    "version": 3
   },
   "file_extension": ".py",
   "mimetype": "text/x-python",
   "name": "python",
   "nbconvert_exporter": "python",
   "pygments_lexer": "ipython3",
   "version": "3.6.0"
  }
 },
 "nbformat": 4,
 "nbformat_minor": 2
}
