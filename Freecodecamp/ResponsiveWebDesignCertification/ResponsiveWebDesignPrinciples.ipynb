{
 "cells": [
  {
   "cell_type": "markdown",
   "metadata": {},
   "source": [
    "## 1\n",
    "Media Queries are a new technique introduced in CSS3 that change the presentation of content based on different viewport sizes. The viewport is a user's visible area of a web page, and is different depending on the device used to access the site.\n",
    "\n",
    "Media Queries consist of a media type, and if that media type matches the type of device the document is displayed on, the styles are applied. You can have as many selectors and styles inside your media query as you want.\n",
    "\n",
    "Here's an example of a media query that returns the content when the device's width is less than or equal to 100px:\n",
    "\n",
    "@media (max-width: 100px) { /* CSS Rules */ }\n",
    "\n",
    "and the following media query returns the content when the device's height is more than or equal to 350px:\n",
    "\n",
    "@media (min-height: 350px) { /* CSS Rules */ }\n",
    "\n",
    "Remember, the CSS inside the media query is applied only if the media type matches that of the device being used.\n",
    "\n",
    "## 2\n",
    "Making images responsive with CSS is actually very simple. You just need to add these properties to an image:\n",
    "```css\n",
    "img {\n",
    "  max-width: 100%;\n",
    "  height: auto;\n",
    "}\n",
    "```\n",
    "The max-width of 100% will make sure the image is never wider than the container it is in, and the height of auto will make the image keep its original aspect ratio.\n",
    "\n",
    "## 3\n",
    "With the increase of internet connected devices, their sizes and specifications vary, and the displays they use could be different externally and internally. Pixel density is an aspect that could be different on one device from others and this density is known as Pixel Per Inch(PPI) or Dots Per Inch(DPI). The most famous such display is the one known as a \"Retina Display\" on the latest Apple MacBook Pro notebooks, and recently iMac computers. Due to the difference in pixel density between a \"Retina\" and \"Non-Retina\" displays, some images that have not been made with a High-Resolution Display in mind could look \"pixelated\" when rendered on a High-Resolution display.\n",
    "\n",
    "The simplest way to make your images properly appear on High-Resolution Displays, such as the MacBook Pros \"retina display\" is to define their width and height values as only half of what the original file is. Here is an example of an image that is only using half of the original height and width:\n",
    "```css\n",
    "<style>\n",
    "  img { height: 250px; width: 250px; }\n",
    "</style>\n",
    "<img src=\"coolPic500x500\" alt=\"A most excellent picture\">\n",
    "```\n",
    "\n",
    "## 4\n",
    "Instead of using em or px to size text, you can use viewport units for responsive typography. Viewport units, like percentages, are relative units, but they are based off different items. Viewport units are relative to the viewport dimensions (width or height) of a device, and percentages are relative to the size of the parent container element.\n",
    "\n",
    "The four different viewport units are:\n",
    "\n",
    "vw (viewport width): 10vw would be 10% of the viewport's width.\n",
    "vh (viewport height): 3vh would be 3% of the viewport's height.\n",
    "vmin (viewport minimum): 70vmin would be 70% of the viewport's smaller dimension (height or width).\n",
    "vmax (viewport maximum): 100vmax would be 100% of the viewport's bigger dimension (height or width).\n",
    "Here is an example that sets a body tag to 30% of the viewport's width.\n",
    "\n",
    "body { width: 30vw; }\n",
    "\n"
   ]
  }
 ],
 "metadata": {
  "kernelspec": {
   "display_name": "Python 3",
   "language": "python",
   "name": "python3"
  },
  "language_info": {
   "codemirror_mode": {
    "name": "ipython",
    "version": 3
   },
   "file_extension": ".py",
   "mimetype": "text/x-python",
   "name": "python",
   "nbconvert_exporter": "python",
   "pygments_lexer": "ipython3",
   "version": "3.6.0"
  }
 },
 "nbformat": 4,
 "nbformat_minor": 2
}
