{
 "cells": [
  {
   "cell_type": "markdown",
   "metadata": {},
   "source": [
    "## Example 1\n",
    "```javascript\n",
    " class DisplayMessages extends React.Component {\n",
    "  constructor(props) {\n",
    "    super(props);\n",
    "    this.state = {\n",
    "      input: '',\n",
    "      messages: []\n",
    "    }\n",
    "  }\n",
    "  // add handleChange() and submitMessage() methods here\n",
    "   handleChange(event) {\n",
    "     this.setState({input: event.target.value})\n",
    "   }\n",
    "\n",
    "   submitMessage(event) {\n",
    "     event.preventDefault();\n",
    "     this.setState({\n",
    "       input: '',       \n",
    "       messages: [...this.state.messages, this.state.input]\n",
    "     })\n",
    "   }\n",
    "\n",
    "  render() {\n",
    "    return (\n",
    "      <div>\n",
    "        <h2>Type in a new Message:</h2>\n",
    "       \n",
    "        <input value={this.state.input} type=\"text\" onChange={this.handleChange.bind(this)} />\n",
    "        <button onClick={this.submitMessage.bind(this)}>Add message</button>\n",
    "       \n",
    "        <ul>\n",
    "        {this.state.messages.map((message, index) => <li key={index}>{message}</li>)}\n",
    "        </ul>\n",
    "\n",
    "        { /* change code above this line */ }\n",
    "      </div>\n",
    "    );\n",
    "  }\n",
    "};\n",
    "```"
   ]
  }
 ],
 "metadata": {
  "kernelspec": {
   "display_name": "Python 3",
   "language": "python",
   "name": "python3"
  },
  "language_info": {
   "codemirror_mode": {
    "name": "ipython",
    "version": 3
   },
   "file_extension": ".py",
   "mimetype": "text/x-python",
   "name": "python",
   "nbconvert_exporter": "python",
   "pygments_lexer": "ipython3",
   "version": "3.6.0"
  }
 },
 "nbformat": 4,
 "nbformat_minor": 2
}
